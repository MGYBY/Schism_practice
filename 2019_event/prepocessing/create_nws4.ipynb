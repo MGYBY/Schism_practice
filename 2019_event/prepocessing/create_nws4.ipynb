{
 "cells": [
  {
   "cell_type": "code",
   "execution_count": 1,
   "metadata": {},
   "outputs": [],
   "source": [
    "import xarray as xr\n",
    "import numpy as np\n",
    "import pandas as pd\n",
    "from scipy.interpolate import griddata"
   ]
  },
  {
   "cell_type": "code",
   "execution_count": 2,
   "metadata": {},
   "outputs": [
    {
     "name": "stdout",
     "output_type": "stream",
     "text": [
      "['OceanMesh2D', '']\n",
      "['24462', '13561', '']\n",
      "24462 13561\n"
     ]
    }
   ],
   "source": [
    "# general mesh info\n",
    "file_14 = r'./hgrid.gr3'\n",
    "mesh_info = []\n",
    "with open(file_14, 'r', encoding='utf-8') as f:\n",
    "    for i in range(0,2):\n",
    "        wz = f.readline()\n",
    "        wz = wz.strip('\\n')\n",
    "        wz = wz.split(' ')\n",
    "        print(wz)\n",
    "        mesh_info.append(wz)\n",
    "f.close()\n",
    "mesh_info\n",
    "ncell = np.int64(mesh_info[1][0])\n",
    "npoint = np.int64(mesh_info[1][1])\n",
    "print(ncell, npoint)"
   ]
  },
  {
   "cell_type": "code",
   "execution_count": 3,
   "metadata": {},
   "outputs": [
    {
     "name": "stderr",
     "output_type": "stream",
     "text": [
      "<>:1: SyntaxWarning: invalid escape sequence '\\s'\n",
      "<>:1: SyntaxWarning: invalid escape sequence '\\s'\n",
      "/tmp/ipykernel_42263/908926587.py:1: SyntaxWarning: invalid escape sequence '\\s'\n",
      "  points = pd.read_csv(file_14, skiprows=2, header=None, nrows=npoint, sep='\\s+')\n"
     ]
    }
   ],
   "source": [
    "points = pd.read_csv(file_14, skiprows=2, header=None, nrows=npoint, sep='\\s+')"
   ]
  },
  {
   "cell_type": "code",
   "execution_count": 4,
   "metadata": {},
   "outputs": [],
   "source": [
    "points.columns = ['id', 'lon', 'lat', 'depth']"
   ]
  },
  {
   "cell_type": "code",
   "execution_count": 16,
   "metadata": {},
   "outputs": [
    {
     "name": "stderr",
     "output_type": "stream",
     "text": [
      "rm: cannot remove './atmos.nc': No such file or directory\n"
     ]
    },
    {
     "name": "stdout",
     "output_type": "stream",
     "text": [
      "0: 2019-10-29 23:00:00\n",
      "1: 2019-10-30 00:00:00\n",
      "2: 2019-10-30 01:00:00\n",
      "3: 2019-10-30 02:00:00\n",
      "4: 2019-10-30 03:00:00\n",
      "5: 2019-10-30 04:00:00\n",
      "6: 2019-10-30 05:00:00\n",
      "7: 2019-10-30 06:00:00\n",
      "8: 2019-10-30 07:00:00\n",
      "9: 2019-10-30 08:00:00\n",
      "10: 2019-10-30 09:00:00\n",
      "11: 2019-10-30 10:00:00\n",
      "12: 2019-10-30 11:00:00\n",
      "13: 2019-10-30 12:00:00\n",
      "14: 2019-10-30 13:00:00\n",
      "15: 2019-10-30 14:00:00\n",
      "16: 2019-10-30 15:00:00\n",
      "17: 2019-10-30 16:00:00\n",
      "18: 2019-10-30 17:00:00\n",
      "19: 2019-10-30 18:00:00\n",
      "20: 2019-10-30 19:00:00\n",
      "21: 2019-10-30 20:00:00\n",
      "22: 2019-10-30 21:00:00\n",
      "23: 2019-10-30 22:00:00\n",
      "24: 2019-10-30 23:00:00\n",
      "25: 2019-10-31 00:00:00\n",
      "26: 2019-10-31 01:00:00\n",
      "27: 2019-10-31 02:00:00\n",
      "28: 2019-10-31 03:00:00\n",
      "29: 2019-10-31 04:00:00\n",
      "30: 2019-10-31 05:00:00\n",
      "31: 2019-10-31 06:00:00\n",
      "32: 2019-10-31 07:00:00\n",
      "33: 2019-10-31 08:00:00\n",
      "34: 2019-10-31 09:00:00\n",
      "35: 2019-10-31 10:00:00\n",
      "36: 2019-10-31 11:00:00\n",
      "37: 2019-10-31 12:00:00\n",
      "38: 2019-10-31 13:00:00\n",
      "39: 2019-10-31 14:00:00\n",
      "40: 2019-10-31 15:00:00\n",
      "41: 2019-10-31 16:00:00\n",
      "42: 2019-10-31 17:00:00\n",
      "43: 2019-10-31 18:00:00\n",
      "44: 2019-10-31 19:00:00\n",
      "45: 2019-10-31 20:00:00\n",
      "46: 2019-10-31 21:00:00\n",
      "47: 2019-10-31 22:00:00\n",
      "48: 2019-10-31 23:00:00\n",
      "49: 2019-11-01 00:00:00\n",
      "50: 2019-11-01 01:00:00\n",
      "51: 2019-11-01 02:00:00\n",
      "52: 2019-11-01 03:00:00\n",
      "53: 2019-11-01 04:00:00\n",
      "54: 2019-11-01 05:00:00\n",
      "55: 2019-11-01 06:00:00\n",
      "56: 2019-11-01 07:00:00\n",
      "57: 2019-11-01 08:00:00\n",
      "58: 2019-11-01 09:00:00\n",
      "59: 2019-11-01 10:00:00\n",
      "60: 2019-11-01 11:00:00\n",
      "61: 2019-11-01 12:00:00\n",
      "62: 2019-11-01 13:00:00\n",
      "63: 2019-11-01 14:00:00\n",
      "64: 2019-11-01 15:00:00\n",
      "65: 2019-11-01 16:00:00\n",
      "66: 2019-11-01 17:00:00\n",
      "67: 2019-11-01 18:00:00\n",
      "68: 2019-11-01 19:00:00\n",
      "69: 2019-11-01 20:00:00\n",
      "70: 2019-11-01 21:00:00\n",
      "71: 2019-11-01 22:00:00\n",
      "72: 2019-11-01 23:00:00\n",
      "73: 2019-11-02 00:00:00\n",
      "74: 2019-11-02 01:00:00\n",
      "75: 2019-11-02 02:00:00\n",
      "76: 2019-11-02 03:00:00\n",
      "77: 2019-11-02 04:00:00\n",
      "78: 2019-11-02 05:00:00\n",
      "79: 2019-11-02 06:00:00\n",
      "80: 2019-11-02 07:00:00\n",
      "81: 2019-11-02 08:00:00\n",
      "82: 2019-11-02 09:00:00\n",
      "83: 2019-11-02 10:00:00\n",
      "84: 2019-11-02 11:00:00\n",
      "85: 2019-11-02 12:00:00\n",
      "86: 2019-11-02 13:00:00\n",
      "87: 2019-11-02 14:00:00\n",
      "88: 2019-11-02 15:00:00\n",
      "89: 2019-11-02 16:00:00\n",
      "90: 2019-11-02 17:00:00\n",
      "91: 2019-11-02 18:00:00\n",
      "92: 2019-11-02 19:00:00\n",
      "93: 2019-11-02 20:00:00\n",
      "94: 2019-11-02 21:00:00\n",
      "95: 2019-11-02 22:00:00\n",
      "96: 2019-11-02 23:00:00\n",
      "97: 2019-11-03 00:00:00\n"
     ]
    }
   ],
   "source": [
    "import os\n",
    "os.system(\"rm ./atmos.nc\")\n",
    "save_file = r'./atmos.nc'\n",
    "\n",
    "date_ran = pd.date_range(\"2019-10-29 23\", \"2019-11-03 00\", freq=\"1h\")\n",
    "time_count = len(date_ran)\n",
    "ds = xr.open_dataset(r'./out.nc')\n",
    "\n",
    "lon = ds.longitude\n",
    "lat = ds.latitude\n",
    "lons,lats = np.meshgrid(lon, lat)\n",
    "grid_in = np.concatenate([lons.reshape(-1,1), lats.reshape(-1,1)], axis=1)\n",
    "\n",
    "grid_out = np.vstack((points['lon'], points['lat'])).T\n",
    "\n",
    "u10_out = np.empty((time_count,npoint))\n",
    "v10_out = np.empty((time_count,npoint))\n",
    "sp_out = np.empty((time_count,npoint))\n",
    "\n",
    "# interpolation\n",
    "outputs =  np.empty((0,3))\n",
    "for itime in range(time_count):\n",
    "    u10_in = ds.u10.sel(valid_time=date_ran[itime], method='nearest')\n",
    "    v10_in = ds.v10.sel(valid_time=date_ran[itime], method='nearest')\n",
    "    sp_in = ds.sp.sel(valid_time=date_ran[itime], method='nearest')\n",
    "    u10_out[itime] = griddata(grid_in, np.array(u10_in).flatten(), grid_out, method='linear')\n",
    "    v10_out[itime] = griddata(grid_in, np.array(v10_in).flatten(), grid_out, method='linear')\n",
    "    sp_out[itime] = griddata(grid_in, np.array(sp_in).flatten(), grid_out, method='linear')\n",
    "#     output = np.vstack((points['id'],u10_out,v10_out,sp_out)).T\n",
    "#     outputs = np.concatenate([outputs, output])\n",
    "    print(str(itime)+': '+str(date_ran[itime]))\n"
   ]
  },
  {
   "cell_type": "code",
   "execution_count": 14,
   "metadata": {},
   "outputs": [
    {
     "name": "stdout",
     "output_type": "stream",
     "text": [
      "(26, 51)\n",
      "(13561, 2)\n"
     ]
    }
   ],
   "source": [
    "print(u10_in.shape)\n",
    "print(grid_out.shape)"
   ]
  },
  {
   "cell_type": "code",
   "execution_count": 23,
   "metadata": {},
   "outputs": [],
   "source": [
    "# create NetCDF file\n",
    "ds1 = xr.Dataset(\n",
    "    data_vars={\n",
    "        \"uwind\": ((\"time\", \"node\"), u10_out),\n",
    "        \"vwind\": ((\"time\", \"node\"), v10_out),\n",
    "        \"prmsl\": ((\"time\", \"node\"), sp_out),\n",
    "    },\n",
    "    coords={\n",
    "        \"time\": np.arange(time_count),\n",
    "        \"node\": np.arange(npoint),\n",
    "    },\n",
    ")"
   ]
  },
  {
   "cell_type": "code",
   "execution_count": 24,
   "metadata": {},
   "outputs": [
    {
     "name": "stdout",
     "output_type": "stream",
     "text": [
      "saving to  ./atmos.nc\n"
     ]
    }
   ],
   "source": [
    "print ('saving to ', save_file)\n",
    "ds1.to_netcdf(path=save_file)"
   ]
  },
  {
   "cell_type": "code",
   "execution_count": null,
   "metadata": {},
   "outputs": [],
   "source": []
  }
 ],
 "metadata": {
  "kernelspec": {
   "display_name": "base",
   "language": "python",
   "name": "python3"
  },
  "language_info": {
   "codemirror_mode": {
    "name": "ipython",
    "version": 3
   },
   "file_extension": ".py",
   "mimetype": "text/x-python",
   "name": "python",
   "nbconvert_exporter": "python",
   "pygments_lexer": "ipython3",
   "version": "3.12.7"
  }
 },
 "nbformat": 4,
 "nbformat_minor": 2
}
